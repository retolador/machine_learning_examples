{
  "nbformat": 4,
  "nbformat_minor": 0,
  "metadata": {
    "accelerator": "GPU",
    "colab": {
      "name": "tarea5.ipynb",
      "provenance": [],
      "collapsed_sections": [],
      "authorship_tag": "ABX9TyMVurWmbddRYppMzYUr15Hf",
      "include_colab_link": true
    },
    "kernelspec": {
      "display_name": "Python 3",
      "name": "python3"
    }
  },
  "cells": [
    {
      "cell_type": "markdown",
      "metadata": {
        "id": "view-in-github",
        "colab_type": "text"
      },
      "source": [
        "<a href=\"https://colab.research.google.com/github/retolador/machine_learning_retolador/blob/master/Credit_card_fraud_detection.ipynb\" target=\"_parent\"><img src=\"https://colab.research.google.com/assets/colab-badge.svg\" alt=\"Open In Colab\"/></a>"
      ]
    },
    {
      "cell_type": "markdown",
      "metadata": {
        "id": "sJA71vtmtC4-"
      },
      "source": [
        "#Credit Card Fraud Detection\n",
        "\n",
        "The dataset contains transactions made by credit cards in September 2013 by European cardholders.\n",
        "This dataset presents transactions that occurred in two days, where we have 492 frauds out of 284,807 transactions. The dataset is highly unbalanced, the positive class (frauds) account for 0.172% of all transactions.\n",
        "\n",
        "Reference and link in kaggle: https://www.kaggle.com/mlg-ulb/creditcardfraud\n",
        "\n",
        "Index\n",
        "1. Prepare data\n",
        "2. Using a model with an amount of data (30000)\n",
        "3. Create a new model with all data\n",
        "4. Compare results"
      ]
    },
    {
      "cell_type": "code",
      "metadata": {
        "id": "glGwXfVqw1R1"
      },
      "source": [
        "#Libraries\n",
        "%tensorflow_version 2.x"
      ],
      "execution_count": 1,
      "outputs": []
    },
    {
      "cell_type": "code",
      "metadata": {
        "id": "Hz2FR8Wcw5rj"
      },
      "source": [
        "import pandas as pd\n",
        "import numpy as np\n",
        "import matplotlib.pyplot as plt\n",
        "import seaborn as sns\n",
        "from sklearn.model_selection import train_test_split\n",
        "from sklearn.preprocessing import StandardScaler\n",
        "from tensorflow.keras.models import Sequential, load_model\n",
        "from tensorflow.keras.layers import Dense, Dropout\n",
        "from tensorflow.keras.callbacks import ModelCheckpoint\n",
        "from sklearn.metrics import confusion_matrix"
      ],
      "execution_count": 2,
      "outputs": []
    },
    {
      "cell_type": "markdown",
      "metadata": {
        "id": "L8mycoVsw9T9"
      },
      "source": [
        "##Prepare data"
      ]
    },
    {
      "cell_type": "code",
      "metadata": {
        "colab": {
          "base_uri": "https://localhost:8080/"
        },
        "id": "ry3lAqYptSe3",
        "outputId": "097d9ce6-974b-48b1-948f-ac5810008e18"
      },
      "source": [
        "!unzip archive.zip"
      ],
      "execution_count": 3,
      "outputs": [
        {
          "output_type": "stream",
          "text": [
            "Archive:  archive.zip\n",
            "  inflating: creditcard.csv          \n"
          ],
          "name": "stdout"
        }
      ]
    },
    {
      "cell_type": "code",
      "metadata": {
        "colab": {
          "base_uri": "https://localhost:8080/"
        },
        "id": "gMxNjM46xATj",
        "outputId": "5b4921d6-0ebe-4e0e-aea5-bb701d3f7cdc"
      },
      "source": [
        "data = pd.read_csv(\"creditcard.csv\")\n",
        "print(data.shape)"
      ],
      "execution_count": 4,
      "outputs": [
        {
          "output_type": "stream",
          "text": [
            "(284807, 31)\n"
          ],
          "name": "stdout"
        }
      ]
    },
    {
      "cell_type": "code",
      "metadata": {
        "colab": {
          "base_uri": "https://localhost:8080/",
          "height": 224
        },
        "id": "fvq0EmMYyYo_",
        "outputId": "3c5d927a-d417-4d2f-a521-40b7d865d8b9"
      },
      "source": [
        "data.head()"
      ],
      "execution_count": null,
      "outputs": [
        {
          "output_type": "execute_result",
          "data": {
            "text/html": [
              "<div>\n",
              "<style scoped>\n",
              "    .dataframe tbody tr th:only-of-type {\n",
              "        vertical-align: middle;\n",
              "    }\n",
              "\n",
              "    .dataframe tbody tr th {\n",
              "        vertical-align: top;\n",
              "    }\n",
              "\n",
              "    .dataframe thead th {\n",
              "        text-align: right;\n",
              "    }\n",
              "</style>\n",
              "<table border=\"1\" class=\"dataframe\">\n",
              "  <thead>\n",
              "    <tr style=\"text-align: right;\">\n",
              "      <th></th>\n",
              "      <th>Time</th>\n",
              "      <th>V1</th>\n",
              "      <th>V2</th>\n",
              "      <th>V3</th>\n",
              "      <th>V4</th>\n",
              "      <th>V5</th>\n",
              "      <th>V6</th>\n",
              "      <th>V7</th>\n",
              "      <th>V8</th>\n",
              "      <th>V9</th>\n",
              "      <th>V10</th>\n",
              "      <th>V11</th>\n",
              "      <th>V12</th>\n",
              "      <th>V13</th>\n",
              "      <th>V14</th>\n",
              "      <th>V15</th>\n",
              "      <th>V16</th>\n",
              "      <th>V17</th>\n",
              "      <th>V18</th>\n",
              "      <th>V19</th>\n",
              "      <th>V20</th>\n",
              "      <th>V21</th>\n",
              "      <th>V22</th>\n",
              "      <th>V23</th>\n",
              "      <th>V24</th>\n",
              "      <th>V25</th>\n",
              "      <th>V26</th>\n",
              "      <th>V27</th>\n",
              "      <th>V28</th>\n",
              "      <th>Amount</th>\n",
              "      <th>Class</th>\n",
              "    </tr>\n",
              "  </thead>\n",
              "  <tbody>\n",
              "    <tr>\n",
              "      <th>0</th>\n",
              "      <td>0.0</td>\n",
              "      <td>-1.359807</td>\n",
              "      <td>-0.072781</td>\n",
              "      <td>2.536347</td>\n",
              "      <td>1.378155</td>\n",
              "      <td>-0.338321</td>\n",
              "      <td>0.462388</td>\n",
              "      <td>0.239599</td>\n",
              "      <td>0.098698</td>\n",
              "      <td>0.363787</td>\n",
              "      <td>0.090794</td>\n",
              "      <td>-0.551600</td>\n",
              "      <td>-0.617801</td>\n",
              "      <td>-0.991390</td>\n",
              "      <td>-0.311169</td>\n",
              "      <td>1.468177</td>\n",
              "      <td>-0.470401</td>\n",
              "      <td>0.207971</td>\n",
              "      <td>0.025791</td>\n",
              "      <td>0.403993</td>\n",
              "      <td>0.251412</td>\n",
              "      <td>-0.018307</td>\n",
              "      <td>0.277838</td>\n",
              "      <td>-0.110474</td>\n",
              "      <td>0.066928</td>\n",
              "      <td>0.128539</td>\n",
              "      <td>-0.189115</td>\n",
              "      <td>0.133558</td>\n",
              "      <td>-0.021053</td>\n",
              "      <td>149.62</td>\n",
              "      <td>0</td>\n",
              "    </tr>\n",
              "    <tr>\n",
              "      <th>1</th>\n",
              "      <td>0.0</td>\n",
              "      <td>1.191857</td>\n",
              "      <td>0.266151</td>\n",
              "      <td>0.166480</td>\n",
              "      <td>0.448154</td>\n",
              "      <td>0.060018</td>\n",
              "      <td>-0.082361</td>\n",
              "      <td>-0.078803</td>\n",
              "      <td>0.085102</td>\n",
              "      <td>-0.255425</td>\n",
              "      <td>-0.166974</td>\n",
              "      <td>1.612727</td>\n",
              "      <td>1.065235</td>\n",
              "      <td>0.489095</td>\n",
              "      <td>-0.143772</td>\n",
              "      <td>0.635558</td>\n",
              "      <td>0.463917</td>\n",
              "      <td>-0.114805</td>\n",
              "      <td>-0.183361</td>\n",
              "      <td>-0.145783</td>\n",
              "      <td>-0.069083</td>\n",
              "      <td>-0.225775</td>\n",
              "      <td>-0.638672</td>\n",
              "      <td>0.101288</td>\n",
              "      <td>-0.339846</td>\n",
              "      <td>0.167170</td>\n",
              "      <td>0.125895</td>\n",
              "      <td>-0.008983</td>\n",
              "      <td>0.014724</td>\n",
              "      <td>2.69</td>\n",
              "      <td>0</td>\n",
              "    </tr>\n",
              "    <tr>\n",
              "      <th>2</th>\n",
              "      <td>1.0</td>\n",
              "      <td>-1.358354</td>\n",
              "      <td>-1.340163</td>\n",
              "      <td>1.773209</td>\n",
              "      <td>0.379780</td>\n",
              "      <td>-0.503198</td>\n",
              "      <td>1.800499</td>\n",
              "      <td>0.791461</td>\n",
              "      <td>0.247676</td>\n",
              "      <td>-1.514654</td>\n",
              "      <td>0.207643</td>\n",
              "      <td>0.624501</td>\n",
              "      <td>0.066084</td>\n",
              "      <td>0.717293</td>\n",
              "      <td>-0.165946</td>\n",
              "      <td>2.345865</td>\n",
              "      <td>-2.890083</td>\n",
              "      <td>1.109969</td>\n",
              "      <td>-0.121359</td>\n",
              "      <td>-2.261857</td>\n",
              "      <td>0.524980</td>\n",
              "      <td>0.247998</td>\n",
              "      <td>0.771679</td>\n",
              "      <td>0.909412</td>\n",
              "      <td>-0.689281</td>\n",
              "      <td>-0.327642</td>\n",
              "      <td>-0.139097</td>\n",
              "      <td>-0.055353</td>\n",
              "      <td>-0.059752</td>\n",
              "      <td>378.66</td>\n",
              "      <td>0</td>\n",
              "    </tr>\n",
              "    <tr>\n",
              "      <th>3</th>\n",
              "      <td>1.0</td>\n",
              "      <td>-0.966272</td>\n",
              "      <td>-0.185226</td>\n",
              "      <td>1.792993</td>\n",
              "      <td>-0.863291</td>\n",
              "      <td>-0.010309</td>\n",
              "      <td>1.247203</td>\n",
              "      <td>0.237609</td>\n",
              "      <td>0.377436</td>\n",
              "      <td>-1.387024</td>\n",
              "      <td>-0.054952</td>\n",
              "      <td>-0.226487</td>\n",
              "      <td>0.178228</td>\n",
              "      <td>0.507757</td>\n",
              "      <td>-0.287924</td>\n",
              "      <td>-0.631418</td>\n",
              "      <td>-1.059647</td>\n",
              "      <td>-0.684093</td>\n",
              "      <td>1.965775</td>\n",
              "      <td>-1.232622</td>\n",
              "      <td>-0.208038</td>\n",
              "      <td>-0.108300</td>\n",
              "      <td>0.005274</td>\n",
              "      <td>-0.190321</td>\n",
              "      <td>-1.175575</td>\n",
              "      <td>0.647376</td>\n",
              "      <td>-0.221929</td>\n",
              "      <td>0.062723</td>\n",
              "      <td>0.061458</td>\n",
              "      <td>123.50</td>\n",
              "      <td>0</td>\n",
              "    </tr>\n",
              "    <tr>\n",
              "      <th>4</th>\n",
              "      <td>2.0</td>\n",
              "      <td>-1.158233</td>\n",
              "      <td>0.877737</td>\n",
              "      <td>1.548718</td>\n",
              "      <td>0.403034</td>\n",
              "      <td>-0.407193</td>\n",
              "      <td>0.095921</td>\n",
              "      <td>0.592941</td>\n",
              "      <td>-0.270533</td>\n",
              "      <td>0.817739</td>\n",
              "      <td>0.753074</td>\n",
              "      <td>-0.822843</td>\n",
              "      <td>0.538196</td>\n",
              "      <td>1.345852</td>\n",
              "      <td>-1.119670</td>\n",
              "      <td>0.175121</td>\n",
              "      <td>-0.451449</td>\n",
              "      <td>-0.237033</td>\n",
              "      <td>-0.038195</td>\n",
              "      <td>0.803487</td>\n",
              "      <td>0.408542</td>\n",
              "      <td>-0.009431</td>\n",
              "      <td>0.798278</td>\n",
              "      <td>-0.137458</td>\n",
              "      <td>0.141267</td>\n",
              "      <td>-0.206010</td>\n",
              "      <td>0.502292</td>\n",
              "      <td>0.219422</td>\n",
              "      <td>0.215153</td>\n",
              "      <td>69.99</td>\n",
              "      <td>0</td>\n",
              "    </tr>\n",
              "  </tbody>\n",
              "</table>\n",
              "</div>"
            ],
            "text/plain": [
              "   Time        V1        V2        V3  ...       V27       V28  Amount  Class\n",
              "0   0.0 -1.359807 -0.072781  2.536347  ...  0.133558 -0.021053  149.62      0\n",
              "1   0.0  1.191857  0.266151  0.166480  ... -0.008983  0.014724    2.69      0\n",
              "2   1.0 -1.358354 -1.340163  1.773209  ... -0.055353 -0.059752  378.66      0\n",
              "3   1.0 -0.966272 -0.185226  1.792993  ...  0.062723  0.061458  123.50      0\n",
              "4   2.0 -1.158233  0.877737  1.548718  ...  0.219422  0.215153   69.99      0\n",
              "\n",
              "[5 rows x 31 columns]"
            ]
          },
          "metadata": {
            "tags": []
          },
          "execution_count": 22
        }
      ]
    },
    {
      "cell_type": "markdown",
      "metadata": {
        "id": "saZVu2VqzBEm"
      },
      "source": [
        "The column Time doesn't matter and I will be eliminate"
      ]
    },
    {
      "cell_type": "code",
      "metadata": {
        "id": "25Ru9p0BzK8Y"
      },
      "source": [
        "data = data.drop(['Time'], axis=1)\n",
        "data['Amount'] = StandardScaler().fit_transform(data['Amount'].values.reshape(-1, 1))"
      ],
      "execution_count": 5,
      "outputs": []
    },
    {
      "cell_type": "code",
      "metadata": {
        "colab": {
          "base_uri": "https://localhost:8080/"
        },
        "id": "9dPogqpZzVwR",
        "outputId": "bd079cdb-7567-4078-ff25-a6a5cefe77fb"
      },
      "source": [
        "X_train, X_test = train_test_split(data, test_size=0.2, random_state=0)\n",
        "X_train = X_train.drop(['Class'], axis=1)\n",
        "y_test = X_test['Class']\n",
        "X_test = X_test.drop(['Class'], axis=1)\n",
        "X_train = X_train.values\n",
        "X_test = X_test.values\n",
        "X_train.shape"
      ],
      "execution_count": 6,
      "outputs": [
        {
          "output_type": "execute_result",
          "data": {
            "text/plain": [
              "(227845, 29)"
            ]
          },
          "metadata": {
            "tags": []
          },
          "execution_count": 6
        }
      ]
    },
    {
      "cell_type": "markdown",
      "metadata": {
        "id": "kpD-Oc3lzgXW"
      },
      "source": [
        "#Auto encoder \n",
        "This is a standard dense autoencoder with four layers getted from https://github.com/msiddalingaiah/MachineLearning/blob/master/Anomalies/Credit_Card_Fraud.ipynb"
      ]
    },
    {
      "cell_type": "code",
      "metadata": {
        "colab": {
          "base_uri": "https://localhost:8080/"
        },
        "id": "h9piK6f0zenm",
        "outputId": "e72f10a0-3715-4180-cbb0-c861d80a2344"
      },
      "source": [
        "#The standard model \n",
        "input_dim = X_train.shape[1]\n",
        "encoding_dim = 14\n",
        "\n",
        "model = Sequential()\n",
        "model.add(Dense(encoding_dim, activation=\"tanh\", input_shape=(input_dim,)))\n",
        "model.add(Dense(int(encoding_dim / 2), activation=\"relu\"))\n",
        "model.add(Dense(int(encoding_dim / 2), activation='tanh'))\n",
        "model.add(Dense(input_dim, activation='relu'))\n",
        "\n",
        "model.summary()"
      ],
      "execution_count": null,
      "outputs": [
        {
          "output_type": "stream",
          "text": [
            "Model: \"sequential_3\"\n",
            "_________________________________________________________________\n",
            "Layer (type)                 Output Shape              Param #   \n",
            "=================================================================\n",
            "dense_13 (Dense)             (None, 14)                420       \n",
            "_________________________________________________________________\n",
            "dense_14 (Dense)             (None, 7)                 105       \n",
            "_________________________________________________________________\n",
            "dense_15 (Dense)             (None, 7)                 56        \n",
            "_________________________________________________________________\n",
            "dense_16 (Dense)             (None, 29)                232       \n",
            "=================================================================\n",
            "Total params: 813\n",
            "Trainable params: 813\n",
            "Non-trainable params: 0\n",
            "_________________________________________________________________\n"
          ],
          "name": "stdout"
        }
      ]
    },
    {
      "cell_type": "code",
      "metadata": {
        "colab": {
          "base_uri": "https://localhost:8080/"
        },
        "id": "nCevylwzz4Vp",
        "outputId": "caf2f07a-1636-4038-a9a4-4c9e48019b37"
      },
      "source": [
        "nb_epoch = 40 # this hyperparameters are the same than the original model\n",
        "batch_size = 32\n",
        "\n",
        "model.compile(optimizer='adam', loss='mean_squared_error', metrics=['acc'])\n",
        "\n",
        "history = model.fit(X_train, X_train,\n",
        "                    epochs=nb_epoch,\n",
        "                    batch_size=batch_size,\n",
        "                    validation_data=(X_test, X_test),\n",
        "                    verbose=1)\n",
        "\n",
        "autoencoder = model"
      ],
      "execution_count": null,
      "outputs": [
        {
          "output_type": "stream",
          "text": [
            "Epoch 1/40\n",
            "7121/7121 [==============================] - 17s 2ms/step - loss: 0.8997 - acc: 0.5224 - val_loss: 0.8021 - val_acc: 0.6802\n",
            "Epoch 2/40\n",
            "7121/7121 [==============================] - 17s 2ms/step - loss: 0.7848 - acc: 0.6858 - val_loss: 0.7822 - val_acc: 0.7056\n",
            "Epoch 3/40\n",
            "7121/7121 [==============================] - 17s 2ms/step - loss: 0.7548 - acc: 0.7063 - val_loss: 0.7733 - val_acc: 0.7022\n",
            "Epoch 4/40\n",
            "7121/7121 [==============================] - 17s 2ms/step - loss: 0.7511 - acc: 0.7059 - val_loss: 0.7676 - val_acc: 0.7107\n",
            "Epoch 5/40\n",
            "7121/7121 [==============================] - 17s 2ms/step - loss: 0.7500 - acc: 0.7036 - val_loss: 0.7659 - val_acc: 0.7107\n",
            "Epoch 6/40\n",
            "7121/7121 [==============================] - 17s 2ms/step - loss: 0.7488 - acc: 0.7094 - val_loss: 0.7632 - val_acc: 0.7156\n",
            "Epoch 7/40\n",
            "7121/7121 [==============================] - 17s 2ms/step - loss: 0.7389 - acc: 0.7114 - val_loss: 0.7611 - val_acc: 0.7101\n",
            "Epoch 8/40\n",
            "7121/7121 [==============================] - 17s 2ms/step - loss: 0.7312 - acc: 0.7126 - val_loss: 0.7618 - val_acc: 0.6997\n",
            "Epoch 9/40\n",
            "7121/7121 [==============================] - 17s 2ms/step - loss: 0.7435 - acc: 0.7120 - val_loss: 0.7628 - val_acc: 0.7131\n",
            "Epoch 10/40\n",
            "7121/7121 [==============================] - 17s 2ms/step - loss: 0.7606 - acc: 0.7118 - val_loss: 0.7588 - val_acc: 0.7109\n",
            "Epoch 11/40\n",
            "7121/7121 [==============================] - 17s 2ms/step - loss: 0.7297 - acc: 0.7106 - val_loss: 0.7592 - val_acc: 0.7073\n",
            "Epoch 12/40\n",
            "7121/7121 [==============================] - 17s 2ms/step - loss: 0.7290 - acc: 0.7113 - val_loss: 0.7580 - val_acc: 0.7118\n",
            "Epoch 13/40\n",
            "7121/7121 [==============================] - 17s 2ms/step - loss: 0.7383 - acc: 0.7118 - val_loss: 0.7608 - val_acc: 0.7115\n",
            "Epoch 14/40\n",
            "7121/7121 [==============================] - 17s 2ms/step - loss: 0.7414 - acc: 0.7118 - val_loss: 0.7577 - val_acc: 0.7135\n",
            "Epoch 15/40\n",
            "7121/7121 [==============================] - 17s 2ms/step - loss: 0.7347 - acc: 0.7144 - val_loss: 0.7576 - val_acc: 0.7196\n",
            "Epoch 16/40\n",
            "7121/7121 [==============================] - 17s 2ms/step - loss: 0.7441 - acc: 0.7131 - val_loss: 0.7558 - val_acc: 0.7193\n",
            "Epoch 17/40\n",
            "7121/7121 [==============================] - 17s 2ms/step - loss: 0.7425 - acc: 0.7167 - val_loss: 0.7562 - val_acc: 0.7151\n",
            "Epoch 18/40\n",
            "7121/7121 [==============================] - 17s 2ms/step - loss: 0.7381 - acc: 0.7150 - val_loss: 0.7572 - val_acc: 0.7178\n",
            "Epoch 19/40\n",
            "7121/7121 [==============================] - 17s 2ms/step - loss: 0.7364 - acc: 0.7157 - val_loss: 0.7565 - val_acc: 0.7131\n",
            "Epoch 20/40\n",
            "7121/7121 [==============================] - 17s 2ms/step - loss: 0.7281 - acc: 0.7160 - val_loss: 0.7565 - val_acc: 0.7175\n",
            "Epoch 21/40\n",
            "7121/7121 [==============================] - 17s 2ms/step - loss: 0.7350 - acc: 0.7183 - val_loss: 0.7548 - val_acc: 0.7153\n",
            "Epoch 22/40\n",
            "7121/7121 [==============================] - 17s 2ms/step - loss: 0.7267 - acc: 0.7180 - val_loss: 0.7561 - val_acc: 0.7199\n",
            "Epoch 23/40\n",
            "7121/7121 [==============================] - 17s 2ms/step - loss: 0.7390 - acc: 0.7174 - val_loss: 0.7559 - val_acc: 0.7141\n",
            "Epoch 24/40\n",
            "7121/7121 [==============================] - 17s 2ms/step - loss: 0.7390 - acc: 0.7177 - val_loss: 0.7560 - val_acc: 0.7218\n",
            "Epoch 25/40\n",
            "7121/7121 [==============================] - 17s 2ms/step - loss: 0.7291 - acc: 0.7196 - val_loss: 0.7553 - val_acc: 0.7213\n",
            "Epoch 26/40\n",
            "7121/7121 [==============================] - 16s 2ms/step - loss: 0.7292 - acc: 0.7180 - val_loss: 0.7529 - val_acc: 0.7224\n",
            "Epoch 27/40\n",
            "7121/7121 [==============================] - 17s 2ms/step - loss: 0.7345 - acc: 0.7179 - val_loss: 0.7569 - val_acc: 0.7230\n",
            "Epoch 28/40\n",
            "7121/7121 [==============================] - 17s 2ms/step - loss: 0.7388 - acc: 0.7188 - val_loss: 0.7538 - val_acc: 0.7254\n",
            "Epoch 29/40\n",
            "7121/7121 [==============================] - 17s 2ms/step - loss: 0.7306 - acc: 0.7177 - val_loss: 0.7540 - val_acc: 0.7143\n",
            "Epoch 30/40\n",
            "7121/7121 [==============================] - 17s 2ms/step - loss: 0.7343 - acc: 0.7186 - val_loss: 0.7531 - val_acc: 0.7200\n",
            "Epoch 31/40\n",
            "7121/7121 [==============================] - 17s 2ms/step - loss: 0.7287 - acc: 0.7187 - val_loss: 0.7524 - val_acc: 0.7240\n",
            "Epoch 32/40\n",
            "7121/7121 [==============================] - 17s 2ms/step - loss: 0.7257 - acc: 0.7196 - val_loss: 0.7528 - val_acc: 0.7192\n",
            "Epoch 33/40\n",
            "7121/7121 [==============================] - 17s 2ms/step - loss: 0.7490 - acc: 0.7169 - val_loss: 0.7526 - val_acc: 0.7174\n",
            "Epoch 34/40\n",
            "7121/7121 [==============================] - 17s 2ms/step - loss: 0.7424 - acc: 0.7193 - val_loss: 0.7530 - val_acc: 0.7254\n",
            "Epoch 35/40\n",
            "7121/7121 [==============================] - 17s 2ms/step - loss: 0.7230 - acc: 0.7194 - val_loss: 0.7558 - val_acc: 0.7202\n",
            "Epoch 36/40\n",
            "7121/7121 [==============================] - 17s 2ms/step - loss: 0.7312 - acc: 0.7205 - val_loss: 0.7523 - val_acc: 0.7207\n",
            "Epoch 37/40\n",
            "7121/7121 [==============================] - 17s 2ms/step - loss: 0.7402 - acc: 0.7184 - val_loss: 0.7528 - val_acc: 0.7199\n",
            "Epoch 38/40\n",
            "7121/7121 [==============================] - 17s 2ms/step - loss: 0.7435 - acc: 0.7184 - val_loss: 0.7514 - val_acc: 0.7254\n",
            "Epoch 39/40\n",
            "7121/7121 [==============================] - 17s 2ms/step - loss: 0.7313 - acc: 0.7197 - val_loss: 0.7540 - val_acc: 0.7208\n",
            "Epoch 40/40\n",
            "7121/7121 [==============================] - 17s 2ms/step - loss: 0.7356 - acc: 0.7202 - val_loss: 0.7515 - val_acc: 0.7190\n"
          ],
          "name": "stdout"
        }
      ]
    },
    {
      "cell_type": "code",
      "metadata": {
        "colab": {
          "base_uri": "https://localhost:8080/",
          "height": 295
        },
        "id": "w26nGqyM00oq",
        "outputId": "e2c4da57-b5e9-47a8-fb07-b6d6cd274290"
      },
      "source": [
        "# summarize history for accuracy\n",
        "plt.plot(history.history['acc'])\n",
        "plt.plot(history.history['val_acc'])\n",
        "plt.title('Model accuracy')\n",
        "plt.ylabel('Accuracy')\n",
        "plt.xlabel('Epoch')\n",
        "plt.legend(['Train', 'Test'], loc='upper left')\n",
        "plt.show()"
      ],
      "execution_count": null,
      "outputs": [
        {
          "output_type": "display_data",
          "data": {
            "image/png": "[encoded data removed]",
            "text/plain": [
              "<Figure size 432x288 with 1 Axes>"
            ]
          },
          "metadata": {
            "tags": [],
            "needs_background": "light"
          }
        }
      ]
    },
    {
      "cell_type": "markdown",
      "metadata": {
        "id": "TiSN8dgLIWb1"
      },
      "source": [
        "##Results \n",
        "This model with 30000 sample has get 70% of accuracy but now with all of the data that gets the 60 % of accuracy.\n",
        "\n",
        "Now I will make a new model to improve the results.\n",
        "\n",
        "## 2n model"
      ]
    },
    {
      "cell_type": "code",
      "metadata": {
        "colab": {
          "base_uri": "https://localhost:8080/"
        },
        "id": "Cg1nTleFKW2K",
        "outputId": "9c167570-f64c-4e08-f54d-fee10671aab4"
      },
      "source": [
        "input_dim = X_train.shape[1]\n",
        "encoding_dim = 18 # Upgrade the encoding dimension\n",
        "dropout = 0.2\n",
        "\n",
        "model = Sequential()\n",
        "model.add(Dense(encoding_dim, activation=\"tanh\", input_shape=(input_dim,)))\n",
        "model.add(Dense(int(encoding_dim / 2), activation=\"relu\"))\n",
        "model.add(Dense(int(encoding_dim / 2), activation='tanh'))\n",
        "model.add(Dropout(dropout)) # I put a dropout layer\n",
        "model.add(Dense(input_dim, activation='relu'))\n",
        "\n",
        "model.summary()\n"
      ],
      "execution_count": 7,
      "outputs": [
        {
          "output_type": "stream",
          "text": [
            "Model: \"sequential\"\n",
            "_________________________________________________________________\n",
            "Layer (type)                 Output Shape              Param #   \n",
            "=================================================================\n",
            "dense (Dense)                (None, 18)                540       \n",
            "_________________________________________________________________\n",
            "dense_1 (Dense)              (None, 9)                 171       \n",
            "_________________________________________________________________\n",
            "dense_2 (Dense)              (None, 9)                 90        \n",
            "_________________________________________________________________\n",
            "dropout (Dropout)            (None, 9)                 0         \n",
            "_________________________________________________________________\n",
            "dense_3 (Dense)              (None, 29)                290       \n",
            "=================================================================\n",
            "Total params: 1,091\n",
            "Trainable params: 1,091\n",
            "Non-trainable params: 0\n",
            "_________________________________________________________________\n"
          ],
          "name": "stdout"
        }
      ]
    },
    {
      "cell_type": "code",
      "metadata": {
        "colab": {
          "base_uri": "https://localhost:8080/"
        },
        "id": "kuD4eJ6yLXIk",
        "outputId": "89b20092-be73-450b-8210-611b6a36f716"
      },
      "source": [
        "nb_epoch = 45 #Upgraded to 45\n",
        "batch_size = 32\n",
        "\n",
        "model.compile(optimizer='adam', loss='mean_squared_error', metrics=['acc'])\n",
        "\n",
        "history = model.fit(X_train, X_train,\n",
        "                    epochs=nb_epoch,\n",
        "                    batch_size=batch_size,\n",
        "                    validation_data=(X_test, X_test),\n",
        "                    verbose=1)\n",
        "\n",
        "autoencoder = model"
      ],
      "execution_count": 8,
      "outputs": [
        {
          "output_type": "stream",
          "text": [
            "Epoch 1/45\n",
            "7121/7121 [==============================] - 20s 2ms/step - loss: 0.9059 - acc: 0.4769 - val_loss: 0.8140 - val_acc: 0.6732\n",
            "Epoch 2/45\n",
            "7121/7121 [==============================] - 17s 2ms/step - loss: 0.8244 - acc: 0.5941 - val_loss: 0.7836 - val_acc: 0.7114\n",
            "Epoch 3/45\n",
            "7121/7121 [==============================] - 17s 2ms/step - loss: 0.8101 - acc: 0.6036 - val_loss: 0.7775 - val_acc: 0.7076\n",
            "Epoch 4/45\n",
            "7121/7121 [==============================] - 17s 2ms/step - loss: 0.7997 - acc: 0.6077 - val_loss: 0.7716 - val_acc: 0.7163\n",
            "Epoch 5/45\n",
            "7121/7121 [==============================] - 17s 2ms/step - loss: 0.8006 - acc: 0.6142 - val_loss: 0.7692 - val_acc: 0.7227\n",
            "Epoch 6/45\n",
            "7121/7121 [==============================] - 17s 2ms/step - loss: 0.8002 - acc: 0.6164 - val_loss: 0.7679 - val_acc: 0.7234\n",
            "Epoch 7/45\n",
            "7121/7121 [==============================] - 17s 2ms/step - loss: 0.7861 - acc: 0.6155 - val_loss: 0.7665 - val_acc: 0.7339\n",
            "Epoch 8/45\n",
            "7121/7121 [==============================] - 17s 2ms/step - loss: 0.7918 - acc: 0.6193 - val_loss: 0.7661 - val_acc: 0.7257\n",
            "Epoch 9/45\n",
            "7121/7121 [==============================] - 17s 2ms/step - loss: 0.8028 - acc: 0.6189 - val_loss: 0.7632 - val_acc: 0.7300\n",
            "Epoch 10/45\n",
            "7121/7121 [==============================] - 17s 2ms/step - loss: 0.7886 - acc: 0.6217 - val_loss: 0.7652 - val_acc: 0.7209\n",
            "Epoch 11/45\n",
            "7121/7121 [==============================] - 17s 2ms/step - loss: 0.7926 - acc: 0.6220 - val_loss: 0.7631 - val_acc: 0.7309\n",
            "Epoch 12/45\n",
            "7121/7121 [==============================] - 17s 2ms/step - loss: 0.8037 - acc: 0.6219 - val_loss: 0.7613 - val_acc: 0.7303\n",
            "Epoch 13/45\n",
            "7121/7121 [==============================] - 17s 2ms/step - loss: 0.7867 - acc: 0.6252 - val_loss: 0.7605 - val_acc: 0.7235\n",
            "Epoch 14/45\n",
            "7121/7121 [==============================] - 17s 2ms/step - loss: 0.7789 - acc: 0.6261 - val_loss: 0.7598 - val_acc: 0.7244\n",
            "Epoch 15/45\n",
            "7121/7121 [==============================] - 17s 2ms/step - loss: 0.7808 - acc: 0.6258 - val_loss: 0.7589 - val_acc: 0.7319\n",
            "Epoch 16/45\n",
            "7121/7121 [==============================] - 17s 2ms/step - loss: 0.7854 - acc: 0.6265 - val_loss: 0.7549 - val_acc: 0.7357\n",
            "Epoch 17/45\n",
            "7121/7121 [==============================] - 17s 2ms/step - loss: 0.7742 - acc: 0.6291 - val_loss: 0.7554 - val_acc: 0.7387\n",
            "Epoch 18/45\n",
            "7121/7121 [==============================] - 17s 2ms/step - loss: 0.7717 - acc: 0.6289 - val_loss: 0.7558 - val_acc: 0.7430\n",
            "Epoch 19/45\n",
            "7121/7121 [==============================] - 16s 2ms/step - loss: 0.7797 - acc: 0.6288 - val_loss: 0.7528 - val_acc: 0.7510\n",
            "Epoch 20/45\n",
            "7121/7121 [==============================] - 17s 2ms/step - loss: 0.7667 - acc: 0.6338 - val_loss: 0.7524 - val_acc: 0.7517\n",
            "Epoch 21/45\n",
            "7121/7121 [==============================] - 17s 2ms/step - loss: 0.7774 - acc: 0.6308 - val_loss: 0.7525 - val_acc: 0.7204\n",
            "Epoch 22/45\n",
            "7121/7121 [==============================] - 17s 2ms/step - loss: 0.7861 - acc: 0.6303 - val_loss: 0.7516 - val_acc: 0.7465\n",
            "Epoch 23/45\n",
            "7121/7121 [==============================] - 17s 2ms/step - loss: 0.7748 - acc: 0.6318 - val_loss: 0.7502 - val_acc: 0.7468\n",
            "Epoch 24/45\n",
            "7121/7121 [==============================] - 17s 2ms/step - loss: 0.7756 - acc: 0.6314 - val_loss: 0.7511 - val_acc: 0.7430\n",
            "Epoch 25/45\n",
            "7121/7121 [==============================] - 17s 2ms/step - loss: 0.7820 - acc: 0.6328 - val_loss: 0.7499 - val_acc: 0.7523\n",
            "Epoch 26/45\n",
            "7121/7121 [==============================] - 17s 2ms/step - loss: 0.7786 - acc: 0.6316 - val_loss: 0.7495 - val_acc: 0.7468\n",
            "Epoch 27/45\n",
            "7121/7121 [==============================] - 17s 2ms/step - loss: 0.7773 - acc: 0.6325 - val_loss: 0.7531 - val_acc: 0.7236\n",
            "Epoch 28/45\n",
            "7121/7121 [==============================] - 17s 2ms/step - loss: 0.7723 - acc: 0.6347 - val_loss: 0.7497 - val_acc: 0.7458\n",
            "Epoch 29/45\n",
            "7121/7121 [==============================] - 17s 2ms/step - loss: 0.7701 - acc: 0.6360 - val_loss: 0.7492 - val_acc: 0.7454\n",
            "Epoch 30/45\n",
            "7121/7121 [==============================] - 17s 2ms/step - loss: 0.7655 - acc: 0.6338 - val_loss: 0.7514 - val_acc: 0.7204\n",
            "Epoch 31/45\n",
            "7121/7121 [==============================] - 17s 2ms/step - loss: 0.7981 - acc: 0.6332 - val_loss: 0.7490 - val_acc: 0.7435\n",
            "Epoch 32/45\n",
            "7121/7121 [==============================] - 17s 2ms/step - loss: 0.7808 - acc: 0.6342 - val_loss: 0.7485 - val_acc: 0.7464\n",
            "Epoch 33/45\n",
            "7121/7121 [==============================] - 17s 2ms/step - loss: 0.7743 - acc: 0.6336 - val_loss: 0.7514 - val_acc: 0.7427\n",
            "Epoch 34/45\n",
            "7121/7121 [==============================] - 17s 2ms/step - loss: 0.7603 - acc: 0.6337 - val_loss: 0.7487 - val_acc: 0.7421\n",
            "Epoch 35/45\n",
            "7121/7121 [==============================] - 17s 2ms/step - loss: 0.7663 - acc: 0.6300 - val_loss: 0.7516 - val_acc: 0.7503\n",
            "Epoch 36/45\n",
            "7121/7121 [==============================] - 17s 2ms/step - loss: 0.7829 - acc: 0.6337 - val_loss: 0.7507 - val_acc: 0.7464\n",
            "Epoch 37/45\n",
            "7121/7121 [==============================] - 17s 2ms/step - loss: 0.7829 - acc: 0.6335 - val_loss: 0.7493 - val_acc: 0.7511\n",
            "Epoch 38/45\n",
            "7121/7121 [==============================] - 17s 2ms/step - loss: 0.7629 - acc: 0.6334 - val_loss: 0.7531 - val_acc: 0.7344\n",
            "Epoch 39/45\n",
            "7121/7121 [==============================] - 17s 2ms/step - loss: 0.7823 - acc: 0.6323 - val_loss: 0.7526 - val_acc: 0.7520\n",
            "Epoch 40/45\n",
            "7121/7121 [==============================] - 17s 2ms/step - loss: 0.7850 - acc: 0.6331 - val_loss: 0.7476 - val_acc: 0.7497\n",
            "Epoch 41/45\n",
            "7121/7121 [==============================] - 17s 2ms/step - loss: 0.7713 - acc: 0.6306 - val_loss: 0.7492 - val_acc: 0.7370\n",
            "Epoch 42/45\n",
            "7121/7121 [==============================] - 17s 2ms/step - loss: 0.7735 - acc: 0.6305 - val_loss: 0.7484 - val_acc: 0.7506\n",
            "Epoch 43/45\n",
            "7121/7121 [==============================] - 17s 2ms/step - loss: 0.7676 - acc: 0.6319 - val_loss: 0.7535 - val_acc: 0.7350\n",
            "Epoch 44/45\n",
            "7121/7121 [==============================] - 17s 2ms/step - loss: 0.7718 - acc: 0.6345 - val_loss: 0.7499 - val_acc: 0.7369\n",
            "Epoch 45/45\n",
            "7121/7121 [==============================] - 17s 2ms/step - loss: 0.7787 - acc: 0.6298 - val_loss: 0.7492 - val_acc: 0.7361\n"
          ],
          "name": "stdout"
        }
      ]
    },
    {
      "cell_type": "code",
      "metadata": {
        "colab": {
          "base_uri": "https://localhost:8080/",
          "height": 295
        },
        "id": "IMaHIgv2Mpe4",
        "outputId": "537d17b8-24e1-487e-e273-61634557d66d"
      },
      "source": [
        "# summarize history for accuracy\n",
        "plt.plot(history.history['acc'])\n",
        "plt.plot(history.history['val_acc'])\n",
        "plt.title('Model accuracy')\n",
        "plt.ylabel('Accuracy')\n",
        "plt.xlabel('Epoch')\n",
        "plt.legend(['Train', 'Test'], loc='upper left')\n",
        "plt.show()"
      ],
      "execution_count": 9,
      "outputs": [
        {
          "output_type": "display_data",
          "data": {
            "image/png": "[encoded data removed]",
            "text/plain": [
              "<Figure size 432x288 with 1 Axes>"
            ]
          },
          "metadata": {
            "tags": [],
            "needs_background": "light"
          }
        }
      ]
    },
    {
      "cell_type": "markdown",
      "metadata": {
        "id": "m35mtxK1YPUL"
      },
      "source": [
        "##Results\n",
        "The bias are worst but the test prediction have been upgraded\n",
        "\n",
        "Let's try another method:\n",
        "\n",
        "## 3rd model:\n"
      ]
    },
    {
      "cell_type": "code",
      "metadata": {
        "colab": {
          "base_uri": "https://localhost:8080/"
        },
        "id": "WtDs7mV0Yg2Z",
        "outputId": "491ddf81-059e-4d5d-c62a-f1e032654696"
      },
      "source": [
        "input_dim = X_train.shape[1]\n",
        "encoding_dim = 20 # Upgrade the encoding dimension\n",
        "dropout = 0.25   #Change the dropout value\n",
        "\n",
        "model = Sequential()\n",
        "model.add(Dense(encoding_dim, activation=\"tanh\", input_shape=(input_dim,)))\n",
        "model.add(Dense(int(encoding_dim / 2), activation=\"relu\"))\n",
        "model.add(Dense(int(encoding_dim / 4), activation=\"tanh\"))\n",
        "model.add(Dense(int(encoding_dim / 2), activation='tanh'))\n",
        "#model.add(Dropout(dropout)) # I eliminate the dropout layer\n",
        "model.add(Dense(input_dim, activation='relu'))\n",
        "\n",
        "model.summary()\n"
      ],
      "execution_count": 10,
      "outputs": [
        {
          "output_type": "stream",
          "text": [
            "Model: \"sequential_1\"\n",
            "_________________________________________________________________\n",
            "Layer (type)                 Output Shape              Param #   \n",
            "=================================================================\n",
            "dense_4 (Dense)              (None, 20)                600       \n",
            "_________________________________________________________________\n",
            "dense_5 (Dense)              (None, 10)                210       \n",
            "_________________________________________________________________\n",
            "dense_6 (Dense)              (None, 5)                 55        \n",
            "_________________________________________________________________\n",
            "dense_7 (Dense)              (None, 10)                60        \n",
            "_________________________________________________________________\n",
            "dense_8 (Dense)              (None, 29)                319       \n",
            "=================================================================\n",
            "Total params: 1,244\n",
            "Trainable params: 1,244\n",
            "Non-trainable params: 0\n",
            "_________________________________________________________________\n"
          ],
          "name": "stdout"
        }
      ]
    },
    {
      "cell_type": "code",
      "metadata": {
        "colab": {
          "base_uri": "https://localhost:8080/"
        },
        "id": "kilDvvRbZMvJ",
        "outputId": "e830679f-02f7-432d-8c93-0f8d0a249544"
      },
      "source": [
        "nb_epoch = 45   #the number of epochs augemnted to 45\n",
        "batch_size = 36 #the size augmented to 36\n",
        "\n",
        "model.compile(optimizer='adam', loss='mean_squared_error', metrics=['acc'])\n",
        "\n",
        "history = model.fit(X_train, X_train,\n",
        "                    epochs=nb_epoch,\n",
        "                    batch_size=batch_size,\n",
        "                    validation_data=(X_test, X_test),\n",
        "                    verbose=1)\n",
        "\n",
        "autoencoder = model"
      ],
      "execution_count": 11,
      "outputs": [
        {
          "output_type": "stream",
          "text": [
            "Epoch 1/45\n",
            "6330/6330 [==============================] - 15s 2ms/step - loss: 0.9240 - acc: 0.5129 - val_loss: 0.8271 - val_acc: 0.6518\n",
            "Epoch 2/45\n",
            "6330/6330 [==============================] - 15s 2ms/step - loss: 0.7943 - acc: 0.6577 - val_loss: 0.8135 - val_acc: 0.6673\n",
            "Epoch 3/45\n",
            "6330/6330 [==============================] - 15s 2ms/step - loss: 0.7921 - acc: 0.6681 - val_loss: 0.8062 - val_acc: 0.6751\n",
            "Epoch 4/45\n",
            "6330/6330 [==============================] - 15s 2ms/step - loss: 0.7925 - acc: 0.6733 - val_loss: 0.8002 - val_acc: 0.6760\n",
            "Epoch 5/45\n",
            "6330/6330 [==============================] - 15s 2ms/step - loss: 0.7909 - acc: 0.6765 - val_loss: 0.7964 - val_acc: 0.6728\n",
            "Epoch 6/45\n",
            "6330/6330 [==============================] - 17s 3ms/step - loss: 0.7804 - acc: 0.6767 - val_loss: 0.7926 - val_acc: 0.6758\n",
            "Epoch 7/45\n",
            "6330/6330 [==============================] - 17s 3ms/step - loss: 0.7749 - acc: 0.6763 - val_loss: 0.7903 - val_acc: 0.6807\n",
            "Epoch 8/45\n",
            "6330/6330 [==============================] - 17s 3ms/step - loss: 0.7723 - acc: 0.6762 - val_loss: 0.7880 - val_acc: 0.6790\n",
            "Epoch 9/45\n",
            "6330/6330 [==============================] - 15s 2ms/step - loss: 0.7678 - acc: 0.6759 - val_loss: 0.7864 - val_acc: 0.6729\n",
            "Epoch 10/45\n",
            "6330/6330 [==============================] - 15s 2ms/step - loss: 0.7640 - acc: 0.6728 - val_loss: 0.7871 - val_acc: 0.6771\n",
            "Epoch 11/45\n",
            "6330/6330 [==============================] - 15s 2ms/step - loss: 0.7683 - acc: 0.6747 - val_loss: 0.7842 - val_acc: 0.6764\n",
            "Epoch 12/45\n",
            "6330/6330 [==============================] - 15s 2ms/step - loss: 0.7567 - acc: 0.6766 - val_loss: 0.7825 - val_acc: 0.6773\n",
            "Epoch 13/45\n",
            "6330/6330 [==============================] - 15s 2ms/step - loss: 0.7558 - acc: 0.6778 - val_loss: 0.7813 - val_acc: 0.6819\n",
            "Epoch 14/45\n",
            "6330/6330 [==============================] - 15s 2ms/step - loss: 0.7636 - acc: 0.6814 - val_loss: 0.7802 - val_acc: 0.6842\n",
            "Epoch 15/45\n",
            "6330/6330 [==============================] - 15s 2ms/step - loss: 0.7596 - acc: 0.6824 - val_loss: 0.7792 - val_acc: 0.6791\n",
            "Epoch 16/45\n",
            "6330/6330 [==============================] - 16s 2ms/step - loss: 0.7606 - acc: 0.6818 - val_loss: 0.7784 - val_acc: 0.6894\n",
            "Epoch 17/45\n",
            "6330/6330 [==============================] - 15s 2ms/step - loss: 0.7548 - acc: 0.6838 - val_loss: 0.7819 - val_acc: 0.6816\n",
            "Epoch 18/45\n",
            "6330/6330 [==============================] - 15s 2ms/step - loss: 0.7571 - acc: 0.6821 - val_loss: 0.7765 - val_acc: 0.6872\n",
            "Epoch 19/45\n",
            "6330/6330 [==============================] - 15s 2ms/step - loss: 0.7691 - acc: 0.6821 - val_loss: 0.7776 - val_acc: 0.6827\n",
            "Epoch 20/45\n",
            "6330/6330 [==============================] - 15s 2ms/step - loss: 0.7484 - acc: 0.6815 - val_loss: 0.7758 - val_acc: 0.6846\n",
            "Epoch 21/45\n",
            "6330/6330 [==============================] - 15s 2ms/step - loss: 0.7663 - acc: 0.6824 - val_loss: 0.7759 - val_acc: 0.6861\n",
            "Epoch 22/45\n",
            "6330/6330 [==============================] - 15s 2ms/step - loss: 0.7443 - acc: 0.6824 - val_loss: 0.7747 - val_acc: 0.6835\n",
            "Epoch 23/45\n",
            "6330/6330 [==============================] - 15s 2ms/step - loss: 0.7590 - acc: 0.6820 - val_loss: 0.7770 - val_acc: 0.6857\n",
            "Epoch 24/45\n",
            "6330/6330 [==============================] - 15s 2ms/step - loss: 0.7514 - acc: 0.6822 - val_loss: 0.7735 - val_acc: 0.6849\n",
            "Epoch 25/45\n",
            "6330/6330 [==============================] - 15s 2ms/step - loss: 0.7686 - acc: 0.6813 - val_loss: 0.7727 - val_acc: 0.6823\n",
            "Epoch 26/45\n",
            "6330/6330 [==============================] - 15s 2ms/step - loss: 0.7421 - acc: 0.6823 - val_loss: 0.7752 - val_acc: 0.6792\n",
            "Epoch 27/45\n",
            "6330/6330 [==============================] - 16s 2ms/step - loss: 0.7512 - acc: 0.6838 - val_loss: 0.7723 - val_acc: 0.6890\n",
            "Epoch 28/45\n",
            "6330/6330 [==============================] - 16s 2ms/step - loss: 0.7519 - acc: 0.6838 - val_loss: 0.7737 - val_acc: 0.6877\n",
            "Epoch 29/45\n",
            "6330/6330 [==============================] - 15s 2ms/step - loss: 0.7561 - acc: 0.6843 - val_loss: 0.7717 - val_acc: 0.6878\n",
            "Epoch 30/45\n",
            "6330/6330 [==============================] - 16s 2ms/step - loss: 0.7583 - acc: 0.6830 - val_loss: 0.7716 - val_acc: 0.6870\n",
            "Epoch 31/45\n",
            "6330/6330 [==============================] - 16s 2ms/step - loss: 0.7474 - acc: 0.6836 - val_loss: 0.7724 - val_acc: 0.6823\n",
            "Epoch 32/45\n",
            "6330/6330 [==============================] - 15s 2ms/step - loss: 0.7603 - acc: 0.6824 - val_loss: 0.7705 - val_acc: 0.6862\n",
            "Epoch 33/45\n",
            "6330/6330 [==============================] - 15s 2ms/step - loss: 0.7593 - acc: 0.6843 - val_loss: 0.7720 - val_acc: 0.6881\n",
            "Epoch 34/45\n",
            "6330/6330 [==============================] - 15s 2ms/step - loss: 0.7498 - acc: 0.6842 - val_loss: 0.7701 - val_acc: 0.6910\n",
            "Epoch 35/45\n",
            "6330/6330 [==============================] - 15s 2ms/step - loss: 0.7418 - acc: 0.6852 - val_loss: 0.7695 - val_acc: 0.6896\n",
            "Epoch 36/45\n",
            "6330/6330 [==============================] - 16s 2ms/step - loss: 0.7581 - acc: 0.6841 - val_loss: 0.7702 - val_acc: 0.6881\n",
            "Epoch 37/45\n",
            "6330/6330 [==============================] - 15s 2ms/step - loss: 0.7432 - acc: 0.6841 - val_loss: 0.7687 - val_acc: 0.6904\n",
            "Epoch 38/45\n",
            "6330/6330 [==============================] - 15s 2ms/step - loss: 0.7459 - acc: 0.6862 - val_loss: 0.7701 - val_acc: 0.6859\n",
            "Epoch 39/45\n",
            "6330/6330 [==============================] - 16s 2ms/step - loss: 0.7572 - acc: 0.6850 - val_loss: 0.7690 - val_acc: 0.6875\n",
            "Epoch 40/45\n",
            "6330/6330 [==============================] - 16s 2ms/step - loss: 0.7575 - acc: 0.6862 - val_loss: 0.7695 - val_acc: 0.6886\n",
            "Epoch 41/45\n",
            "6330/6330 [==============================] - 15s 2ms/step - loss: 0.7581 - acc: 0.6859 - val_loss: 0.7695 - val_acc: 0.6885\n",
            "Epoch 42/45\n",
            "6330/6330 [==============================] - 15s 2ms/step - loss: 0.7587 - acc: 0.6843 - val_loss: 0.7714 - val_acc: 0.6899\n",
            "Epoch 43/45\n",
            "6330/6330 [==============================] - 16s 2ms/step - loss: 0.7520 - acc: 0.6860 - val_loss: 0.7691 - val_acc: 0.6928\n",
            "Epoch 44/45\n",
            "6330/6330 [==============================] - 16s 2ms/step - loss: 0.7428 - acc: 0.6833 - val_loss: 0.7693 - val_acc: 0.6836\n",
            "Epoch 45/45\n",
            "6330/6330 [==============================] - 16s 2ms/step - loss: 0.7374 - acc: 0.6828 - val_loss: 0.7691 - val_acc: 0.6862\n"
          ],
          "name": "stdout"
        }
      ]
    },
    {
      "cell_type": "code",
      "metadata": {
        "id": "eqRVuuIBmNwO",
        "colab": {
          "base_uri": "https://localhost:8080/",
          "height": 295
        },
        "outputId": "75455f35-4a96-4470-d5d6-231deaebaa29"
      },
      "source": [
        "# summarize history for accuracy\n",
        "plt.plot(history.history['acc'])\n",
        "plt.plot(history.history['val_acc'])\n",
        "plt.title('Model accuracy')\n",
        "plt.ylabel('Accuracy')\n",
        "plt.xlabel('Epoch')\n",
        "plt.legend(['Train', 'Test'], loc='upper left')\n",
        "plt.show()"
      ],
      "execution_count": 12,
      "outputs": [
        {
          "output_type": "display_data",
          "data": {
            "image/png": "[encoded data removed]",
            "text/plain": [
              "<Figure size 432x288 with 1 Axes>"
            ]
          },
          "metadata": {
            "tags": [],
            "needs_background": "light"
          }
        }
      ]
    },
    {
      "cell_type": "markdown",
      "metadata": {
        "id": "DUY9N2lZuj0N"
      },
      "source": [
        "## 4th Model\n",
        "\n"
      ]
    },
    {
      "cell_type": "code",
      "metadata": {
        "colab": {
          "base_uri": "https://localhost:8080/"
        },
        "id": "QgAHtQNjuxbV",
        "outputId": "beeed594-356b-41b0-fe2c-7bcd404eea11"
      },
      "source": [
        "#The standard model changing the hyperparameters \n",
        "input_dim = X_train.shape[1]\n",
        "encoding_dim = 18\n",
        "\n",
        "model = Sequential()\n",
        "model.add(Dense(encoding_dim, activation=\"tanh\", input_shape=(input_dim,)))\n",
        "model.add(Dense(int(encoding_dim / 2), activation=\"relu\"))\n",
        "model.add(Dense(int(encoding_dim / 2), activation='tanh'))\n",
        "model.add(Dense(input_dim, activation='relu'))\n",
        "\n",
        "model.summary()"
      ],
      "execution_count": 13,
      "outputs": [
        {
          "output_type": "stream",
          "text": [
            "Model: \"sequential_2\"\n",
            "_________________________________________________________________\n",
            "Layer (type)                 Output Shape              Param #   \n",
            "=================================================================\n",
            "dense_9 (Dense)              (None, 18)                540       \n",
            "_________________________________________________________________\n",
            "dense_10 (Dense)             (None, 9)                 171       \n",
            "_________________________________________________________________\n",
            "dense_11 (Dense)             (None, 9)                 90        \n",
            "_________________________________________________________________\n",
            "dense_12 (Dense)             (None, 29)                290       \n",
            "=================================================================\n",
            "Total params: 1,091\n",
            "Trainable params: 1,091\n",
            "Non-trainable params: 0\n",
            "_________________________________________________________________\n"
          ],
          "name": "stdout"
        }
      ]
    },
    {
      "cell_type": "code",
      "metadata": {
        "colab": {
          "base_uri": "https://localhost:8080/"
        },
        "id": "1dtG4e2VvDvP",
        "outputId": "a13e1104-cb0a-45c2-af28-091224f925ef"
      },
      "source": [
        "nb_epoch = 45\n",
        "batch_size = 34\n",
        "\n",
        "model.compile(optimizer='adam', loss='mean_squared_error', metrics=['acc'])\n",
        "\n",
        "history = model.fit(X_train, X_train,\n",
        "                    epochs=nb_epoch,\n",
        "                    batch_size=batch_size,\n",
        "                    validation_data=(X_test, X_test),\n",
        "                    verbose=1)\n",
        "\n",
        "autoencoder = model"
      ],
      "execution_count": 14,
      "outputs": [
        {
          "output_type": "stream",
          "text": [
            "Epoch 1/45\n",
            "6702/6702 [==============================] - 16s 2ms/step - loss: 0.8730 - acc: 0.5051 - val_loss: 0.7954 - val_acc: 0.6815\n",
            "Epoch 2/45\n",
            "6702/6702 [==============================] - 16s 2ms/step - loss: 0.7667 - acc: 0.6957 - val_loss: 0.7673 - val_acc: 0.7184\n",
            "Epoch 3/45\n",
            "6702/6702 [==============================] - 16s 2ms/step - loss: 0.7332 - acc: 0.7242 - val_loss: 0.7584 - val_acc: 0.7369\n",
            "Epoch 4/45\n",
            "6702/6702 [==============================] - 16s 2ms/step - loss: 0.7362 - acc: 0.7419 - val_loss: 0.7530 - val_acc: 0.7518\n",
            "Epoch 5/45\n",
            "6702/6702 [==============================] - 16s 2ms/step - loss: 0.7442 - acc: 0.7502 - val_loss: 0.7497 - val_acc: 0.7538\n",
            "Epoch 6/45\n",
            "6702/6702 [==============================] - 16s 2ms/step - loss: 0.7162 - acc: 0.7571 - val_loss: 0.7476 - val_acc: 0.7622\n",
            "Epoch 7/45\n",
            "6702/6702 [==============================] - 16s 2ms/step - loss: 0.7296 - acc: 0.7597 - val_loss: 0.7461 - val_acc: 0.7677\n",
            "Epoch 8/45\n",
            "6702/6702 [==============================] - 16s 2ms/step - loss: 0.7216 - acc: 0.7609 - val_loss: 0.7441 - val_acc: 0.7631\n",
            "Epoch 9/45\n",
            "6702/6702 [==============================] - 16s 2ms/step - loss: 0.7421 - acc: 0.7611 - val_loss: 0.7415 - val_acc: 0.7693\n",
            "Epoch 10/45\n",
            "6702/6702 [==============================] - 16s 2ms/step - loss: 0.7106 - acc: 0.7614 - val_loss: 0.7484 - val_acc: 0.7471\n",
            "Epoch 11/45\n",
            "6702/6702 [==============================] - 16s 2ms/step - loss: 0.7115 - acc: 0.7649 - val_loss: 0.7394 - val_acc: 0.7668\n",
            "Epoch 12/45\n",
            "6702/6702 [==============================] - 16s 2ms/step - loss: 0.7057 - acc: 0.7631 - val_loss: 0.7402 - val_acc: 0.7528\n",
            "Epoch 13/45\n",
            "6702/6702 [==============================] - 16s 2ms/step - loss: 0.7169 - acc: 0.7656 - val_loss: 0.7405 - val_acc: 0.7676\n",
            "Epoch 14/45\n",
            "6702/6702 [==============================] - 16s 2ms/step - loss: 0.7075 - acc: 0.7675 - val_loss: 0.7389 - val_acc: 0.7682\n",
            "Epoch 15/45\n",
            "6702/6702 [==============================] - 16s 2ms/step - loss: 0.7198 - acc: 0.7691 - val_loss: 0.7417 - val_acc: 0.7618\n",
            "Epoch 16/45\n",
            "6702/6702 [==============================] - 16s 2ms/step - loss: 0.7213 - acc: 0.7710 - val_loss: 0.7386 - val_acc: 0.7685\n",
            "Epoch 17/45\n",
            "6702/6702 [==============================] - 16s 2ms/step - loss: 0.7014 - acc: 0.7737 - val_loss: 0.7381 - val_acc: 0.7700\n",
            "Epoch 18/45\n",
            "6702/6702 [==============================] - 16s 2ms/step - loss: 0.7077 - acc: 0.7731 - val_loss: 0.7362 - val_acc: 0.7642\n",
            "Epoch 19/45\n",
            "6702/6702 [==============================] - 16s 2ms/step - loss: 0.7106 - acc: 0.7745 - val_loss: 0.7330 - val_acc: 0.7837\n",
            "Epoch 20/45\n",
            "6702/6702 [==============================] - 16s 2ms/step - loss: 0.7091 - acc: 0.7742 - val_loss: 0.7342 - val_acc: 0.7774\n",
            "Epoch 21/45\n",
            "6702/6702 [==============================] - 16s 2ms/step - loss: 0.7040 - acc: 0.7777 - val_loss: 0.7319 - val_acc: 0.7820\n",
            "Epoch 22/45\n",
            "6702/6702 [==============================] - 16s 2ms/step - loss: 0.7240 - acc: 0.7758 - val_loss: 0.7319 - val_acc: 0.7849\n",
            "Epoch 23/45\n",
            "6702/6702 [==============================] - 16s 2ms/step - loss: 0.7220 - acc: 0.7757 - val_loss: 0.7331 - val_acc: 0.7755\n",
            "Epoch 24/45\n",
            "6702/6702 [==============================] - 16s 2ms/step - loss: 0.7073 - acc: 0.7764 - val_loss: 0.7363 - val_acc: 0.7587\n",
            "Epoch 25/45\n",
            "6702/6702 [==============================] - 16s 2ms/step - loss: 0.7167 - acc: 0.7779 - val_loss: 0.7314 - val_acc: 0.7807\n",
            "Epoch 26/45\n",
            "6702/6702 [==============================] - 16s 2ms/step - loss: 0.7037 - acc: 0.7775 - val_loss: 0.7299 - val_acc: 0.7812\n",
            "Epoch 27/45\n",
            "6702/6702 [==============================] - 16s 2ms/step - loss: 0.7289 - acc: 0.7777 - val_loss: 0.7304 - val_acc: 0.7814\n",
            "Epoch 28/45\n",
            "6702/6702 [==============================] - 16s 2ms/step - loss: 0.7131 - acc: 0.7774 - val_loss: 0.7342 - val_acc: 0.7762\n",
            "Epoch 29/45\n",
            "6702/6702 [==============================] - 16s 2ms/step - loss: 0.7187 - acc: 0.7790 - val_loss: 0.7389 - val_acc: 0.7535\n",
            "Epoch 30/45\n",
            "6702/6702 [==============================] - 16s 2ms/step - loss: 0.7003 - acc: 0.7796 - val_loss: 0.7316 - val_acc: 0.7803\n",
            "Epoch 31/45\n",
            "6702/6702 [==============================] - 16s 2ms/step - loss: 0.7066 - acc: 0.7813 - val_loss: 0.7335 - val_acc: 0.7852\n",
            "Epoch 32/45\n",
            "6702/6702 [==============================] - 16s 2ms/step - loss: 0.7009 - acc: 0.7800 - val_loss: 0.7308 - val_acc: 0.7850\n",
            "Epoch 33/45\n",
            "6702/6702 [==============================] - 16s 2ms/step - loss: 0.7029 - acc: 0.7806 - val_loss: 0.7299 - val_acc: 0.7757\n",
            "Epoch 34/45\n",
            "6702/6702 [==============================] - 16s 2ms/step - loss: 0.7075 - acc: 0.7799 - val_loss: 0.7287 - val_acc: 0.7858\n",
            "Epoch 35/45\n",
            "6702/6702 [==============================] - 16s 2ms/step - loss: 0.7111 - acc: 0.7811 - val_loss: 0.7294 - val_acc: 0.7827\n",
            "Epoch 36/45\n",
            "6702/6702 [==============================] - 16s 2ms/step - loss: 0.6981 - acc: 0.7808 - val_loss: 0.7290 - val_acc: 0.7813\n",
            "Epoch 37/45\n",
            "6702/6702 [==============================] - 16s 2ms/step - loss: 0.6978 - acc: 0.7800 - val_loss: 0.7303 - val_acc: 0.7813\n",
            "Epoch 38/45\n",
            "6702/6702 [==============================] - 16s 2ms/step - loss: 0.7016 - acc: 0.7829 - val_loss: 0.7300 - val_acc: 0.7825\n",
            "Epoch 39/45\n",
            "6702/6702 [==============================] - 16s 2ms/step - loss: 0.7112 - acc: 0.7811 - val_loss: 0.7308 - val_acc: 0.7669\n",
            "Epoch 40/45\n",
            "6702/6702 [==============================] - 16s 2ms/step - loss: 0.7124 - acc: 0.7813 - val_loss: 0.7314 - val_acc: 0.7784\n",
            "Epoch 41/45\n",
            "6702/6702 [==============================] - 16s 2ms/step - loss: 0.6996 - acc: 0.7804 - val_loss: 0.7294 - val_acc: 0.7934\n",
            "Epoch 42/45\n",
            "6702/6702 [==============================] - 16s 2ms/step - loss: 0.7084 - acc: 0.7818 - val_loss: 0.7281 - val_acc: 0.7849\n",
            "Epoch 43/45\n",
            "6702/6702 [==============================] - 16s 2ms/step - loss: 0.7151 - acc: 0.7804 - val_loss: 0.7288 - val_acc: 0.7711\n",
            "Epoch 44/45\n",
            "6702/6702 [==============================] - 16s 2ms/step - loss: 0.7198 - acc: 0.7790 - val_loss: 0.7290 - val_acc: 0.7817\n",
            "Epoch 45/45\n",
            "6702/6702 [==============================] - 16s 2ms/step - loss: 0.7074 - acc: 0.7808 - val_loss: 0.7291 - val_acc: 0.7866\n"
          ],
          "name": "stdout"
        }
      ]
    },
    {
      "cell_type": "code",
      "metadata": {
        "colab": {
          "base_uri": "https://localhost:8080/",
          "height": 295
        },
        "id": "uvAoklW6yt6P",
        "outputId": "57990a6c-85e8-4bcf-c09b-09acc7b291d3"
      },
      "source": [
        "# summarize history for accuracy\n",
        "plt.plot(history.history['acc'])\n",
        "plt.plot(history.history['val_acc'])\n",
        "plt.title('Model accuracy')\n",
        "plt.ylabel('Accuracy')\n",
        "plt.xlabel('Epoch')\n",
        "plt.legend(['Train', 'Test'], loc='upper left')\n",
        "plt.show()"
      ],
      "execution_count": 15,
      "outputs": [
        {
          "output_type": "display_data",
          "data": {
            "image/png": "[encoded data removed]",
            "text/plain": [
              "<Figure size 432x288 with 1 Axes>"
            ]
          },
          "metadata": {
            "tags": [],
            "needs_background": "light"
          }
        }
      ]
    },
    {
      "cell_type": "markdown",
      "metadata": {
        "id": "hQmOwMONy4_U"
      },
      "source": [
        "# Final Results\n",
        "Finally the best result was the 4th model\n",
        "With 78% of accuracy in train and test.\n",
        "\n",
        "# Analysis\n",
        "Finally with the 4th model, we will see the analysis of the model"
      ]
    },
    {
      "cell_type": "code",
      "metadata": {
        "id": "eXPLCLCj0Mhx"
      },
      "source": [
        "predictions = autoencoder.predict(X_test)\n",
        "mse = np.mean(np.power(X_test - predictions, 2), axis=1)\n",
        "error_df = pd.DataFrame({'reconstruction_error': mse, 'true_class': y_test})"
      ],
      "execution_count": 17,
      "outputs": []
    },
    {
      "cell_type": "code",
      "metadata": {
        "colab": {
          "base_uri": "https://localhost:8080/"
        },
        "id": "3XYnOKCSzVVc",
        "outputId": "1086111d-f4c7-448e-cc3a-1f6500ae8c04"
      },
      "source": [
        "normal = error_df[error_df.true_class == 0]\n",
        "fraud = error_df[error_df.true_class == 1]\n",
        "\n",
        "print('Normal transactions: %d, fraud transactions: %d' % (len(normal), len(fraud)))"
      ],
      "execution_count": 18,
      "outputs": [
        {
          "output_type": "stream",
          "text": [
            "Normal transactions: 56861, fraud transactions: 101\n"
          ],
          "name": "stdout"
        }
      ]
    },
    {
      "cell_type": "markdown",
      "metadata": {
        "id": "ByA5lbrI0m_8"
      },
      "source": [
        "## Confusion Matrix\n",
        "Finally we will see the confusion matrix with the true and false positives and negatives."
      ]
    },
    {
      "cell_type": "code",
      "metadata": {
        "colab": {
          "base_uri": "https://localhost:8080/"
        },
        "id": "1GkLvlmW0SKx",
        "outputId": "b08e54e1-5907-4ff6-c992-1569b875b464"
      },
      "source": [
        "true_positives = len(fraud[fraud.reconstruction_error >= threshold])\n",
        "false_positives = len(normal[normal.reconstruction_error >= threshold])\n",
        "\n",
        "true_negatives = len(normal[normal.reconstruction_error < threshold])\n",
        "false_negatives = len(fraud[fraud.reconstruction_error < threshold])\n",
        "\n",
        "print('True positives: %d, true negatives: %d' % (true_positives, true_negatives))\n",
        "print('False positives: %d, false negatives: %d' % (false_positives, false_negatives))"
      ],
      "execution_count": 22,
      "outputs": [
        {
          "output_type": "stream",
          "text": [
            "True positives: 62, true negatives: 56293\n",
            "False positives: 568, false negatives: 39\n"
          ],
          "name": "stdout"
        }
      ]
    },
    {
      "cell_type": "code",
      "metadata": {
        "colab": {
          "base_uri": "https://localhost:8080/",
          "height": 350
        },
        "id": "RJLqC70c5QjX",
        "outputId": "1c5924d1-f51f-4f76-b721-8ca82cf710ee"
      },
      "source": [
        "labels = [\"Normal\", \"Fraud\"]\n",
        "\n",
        "y_pred = [1 if e > threshold else 0 for e in error_df.reconstruction_error.values]\n",
        "conf_matrix = confusion_matrix(error_df.true_class, y_pred)\n",
        "\n",
        "plt.figure(figsize=(6, 5))\n",
        "sns.heatmap(conf_matrix, xticklabels=labels, yticklabels=labels, annot=True, fmt=\"d\");\n",
        "plt.title(\"Confusion matrix\")\n",
        "plt.ylabel('True class')\n",
        "plt.xlabel('Predicted class')\n",
        "plt.show()"
      ],
      "execution_count": 24,
      "outputs": [
        {
          "output_type": "display_data",
          "data": {
            "image/png": "[encoded data removed]",
            "text/plain": [
              "<Figure size 432x360 with 2 Axes>"
            ]
          },
          "metadata": {
            "tags": [],
            "needs_background": "light"
          }
        }
      ]
    }
  ]
}
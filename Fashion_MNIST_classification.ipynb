{
  "nbformat": 4,
  "nbformat_minor": 0,
  "metadata": {
    "colab": {
      "name": "Fashion-MNIST_classification.ipynb",
      "provenance": [],
      "collapsed_sections": [],
      "authorship_tag": "ABX9TyMYsJNeZwzq+zttutoghLHP",
      "include_colab_link": true
    },
    "kernelspec": {
      "name": "python3",
      "display_name": "Python 3"
    },
    "language_info": {
      "name": "python"
    },
    "accelerator": "GPU"
  },
  "cells": [
    {
      "cell_type": "markdown",
      "metadata": {
        "id": "view-in-github",
        "colab_type": "text"
      },
      "source": [
        "<a href=\"https://colab.research.google.com/github/retolador/machine_learning_retolador/blob/master/Fashion_MNIST_classification.ipynb\" target=\"_parent\"><img src=\"https://colab.research.google.com/assets/colab-badge.svg\" alt=\"Open In Colab\"/></a>"
      ]
    },
    {
      "cell_type": "markdown",
      "metadata": {
        "id": "dnIqg8A4rKWf"
      },
      "source": [
        "shion-MNIST collection of small images of clothing, such as t-shirts, sandals, sneakers and so on. This notebook make to predict the collection\n",
        "\n",
        "1. create the model\n",
        "2. Evaluate the model"
      ]
    },
    {
      "cell_type": "code",
      "metadata": {
        "colab": {
          "base_uri": "https://localhost:8080/"
        },
        "id": "E6RsBoBsrrIP",
        "outputId": "d4b71c52-0dec-4ccf-f7bf-2c0c6ca4ca83"
      },
      "source": [
        "%tensorflow_version 2.x  #Importing libraries\n",
        "\n",
        "from tensorflow.keras.datasets import mnist\n",
        "from tensorflow.keras.models import Sequential\n",
        "from tensorflow.keras.layers import Dense, Dropout, Flatten\n",
        "from tensorflow.keras.layers import Conv2D, MaxPooling2D\n",
        "from tensorflow.keras import backend as K\n",
        "from tensorflow.keras.optimizers import Adam\n",
        "from matplotlib import pyplot as plt\n",
        "import numpy as np\n",
        "import random"
      ],
      "execution_count": 2,
      "outputs": [
        {
          "output_type": "stream",
          "text": [
            "`%tensorflow_version` only switches the major version: 1.x or 2.x.\n",
            "You set: `2.x  #Importing libraries`. This will be interpreted as: `2.x`.\n",
            "\n",
            "\n",
            "TensorFlow 2.x selected.\n"
          ],
          "name": "stdout"
        }
      ]
    },
    {
      "cell_type": "code",
      "metadata": {
        "id": "Yga1Lnpzr4nj",
        "colab": {
          "base_uri": "https://localhost:8080/"
        },
        "outputId": "6a4bfbe6-2d6b-4d0d-8999-843d489e85e7"
      },
      "source": [
        "# Loading data\n",
        "from tensorflow.keras.datasets import fashion_mnist\n",
        "(x_train, y_train), (x_test, y_test) = fashion_mnist.load_data()\n",
        "\n",
        "orig_test = x_test"
      ],
      "execution_count": 3,
      "outputs": [
        {
          "output_type": "stream",
          "text": [
            "Downloading data from https://storage.googleapis.com/tensorflow/tf-keras-datasets/train-labels-idx1-ubyte.gz\n",
            "32768/29515 [=================================] - 0s 0us/step\n",
            "Downloading data from https://storage.googleapis.com/tensorflow/tf-keras-datasets/train-images-idx3-ubyte.gz\n",
            "26427392/26421880 [==============================] - 0s 0us/step\n",
            "Downloading data from https://storage.googleapis.com/tensorflow/tf-keras-datasets/t10k-labels-idx1-ubyte.gz\n",
            "8192/5148 [===============================================] - 0s 0us/step\n",
            "Downloading data from https://storage.googleapis.com/tensorflow/tf-keras-datasets/t10k-images-idx3-ubyte.gz\n",
            "4423680/4422102 [==============================] - 0s 0us/step\n"
          ],
          "name": "stdout"
        }
      ]
    },
    {
      "cell_type": "markdown",
      "metadata": {
        "id": "SJu76xgwr-6b"
      },
      "source": [
        "First of all see what we have to classify"
      ]
    },
    {
      "cell_type": "code",
      "metadata": {
        "colab": {
          "base_uri": "https://localhost:8080/"
        },
        "id": "gTVmJMDFssaE",
        "outputId": "699343d5-7e92-4fe0-c514-b3b156c07a5f"
      },
      "source": [
        "print(\"Length of trainning: {}\".format(len(x_train)))\n",
        "print(\"Length of testing: {}\".format(len(x_test)))"
      ],
      "execution_count": 4,
      "outputs": [
        {
          "output_type": "stream",
          "text": [
            "Length of trainning: 60000\n",
            "Length of testing: 10000\n"
          ],
          "name": "stdout"
        }
      ]
    },
    {
      "cell_type": "code",
      "metadata": {
        "colab": {
          "base_uri": "https://localhost:8080/"
        },
        "id": "puoSi5sPvOpJ",
        "outputId": "31612532-9281-46ca-c4b4-70ba4dc518cb"
      },
      "source": [
        "#How many classes have to classify:\n",
        "len(np.unique(y_test))"
      ],
      "execution_count": 5,
      "outputs": [
        {
          "output_type": "execute_result",
          "data": {
            "text/plain": [
              "10"
            ]
          },
          "metadata": {
            "tags": []
          },
          "execution_count": 5
        }
      ]
    },
    {
      "cell_type": "code",
      "metadata": {
        "id": "5uRv7tTEvorS"
      },
      "source": [
        "#Put the number of labels\n",
        "# Our data set contains 10 digits, so the number of classes is 10\n",
        "num_classes = 10"
      ],
      "execution_count": 6,
      "outputs": []
    },
    {
      "cell_type": "code",
      "metadata": {
        "colab": {
          "base_uri": "https://localhost:8080/",
          "height": 281
        },
        "id": "Y6gtDxCpr-IB",
        "outputId": "9477f18f-92a8-408e-9d85-13a5c861d840"
      },
      "source": [
        "index = random.randrange(1000)\n",
        "plt.imshow(orig_test[index], cmap= 'gray')\n",
        "plt.title('Label: %d' % y_test[index])\n",
        "plt.show()"
      ],
      "execution_count": 7,
      "outputs": [
        {
          "output_type": "display_data",
          "data": {
            "image/png": "[encoded data removed]",
            "text/plain": [
              "<Figure size 432x288 with 1 Axes>"
            ]
          },
          "metadata": {
            "tags": [],
            "needs_background": "light"
          }
        }
      ]
    },
    {
      "cell_type": "code",
      "metadata": {
        "colab": {
          "base_uri": "https://localhost:8080/"
        },
        "id": "YU7s-JIHut2I",
        "outputId": "275631ae-9b00-40d4-938b-3045bfcdfe90"
      },
      "source": [
        "#Get image dimensions\n",
        "len(orig_test[0])"
      ],
      "execution_count": 8,
      "outputs": [
        {
          "output_type": "execute_result",
          "data": {
            "text/plain": [
              "28"
            ]
          },
          "metadata": {
            "tags": []
          },
          "execution_count": 8
        }
      ]
    },
    {
      "cell_type": "code",
      "metadata": {
        "id": "PF2x5WFHu774"
      },
      "source": [
        "#Put image dimensions\n",
        "img_rows, img_cols = 28, 28"
      ],
      "execution_count": 9,
      "outputs": []
    },
    {
      "cell_type": "markdown",
      "metadata": {
        "id": "DxeoH4HouTIz"
      },
      "source": [
        "Data preparation"
      ]
    },
    {
      "cell_type": "code",
      "metadata": {
        "colab": {
          "base_uri": "https://localhost:8080/"
        },
        "id": "ZgliR5vEuEJL",
        "outputId": "8a18c00c-f65b-4bca-cedf-6cb376b82692"
      },
      "source": [
        "if K.image_data_format() == 'channels_first':\n",
        "    x_train = x_train.reshape(x_train.shape[0], 1, img_rows, img_cols)\n",
        "    x_test = x_test.reshape(x_test.shape[0], 1, img_rows, img_cols)\n",
        "    input_shape = (1, img_rows, img_cols)\n",
        "else:\n",
        "    x_train = x_train.reshape(x_train.shape[0], img_rows, img_cols, 1)\n",
        "    x_test = x_test.reshape(x_test.shape[0], img_rows, img_cols, 1)\n",
        "    input_shape = (img_rows, img_cols, 1)\n",
        "    \n",
        "x_train, x_test = x_train / 255.0, x_test / 255.0\n",
        "\n",
        "print(x_train.shape[0], 'train samples')\n",
        "print(x_test.shape[0], 'test samples')"
      ],
      "execution_count": 10,
      "outputs": [
        {
          "output_type": "stream",
          "text": [
            "60000 train samples\n",
            "10000 test samples\n"
          ],
          "name": "stdout"
        }
      ]
    },
    {
      "cell_type": "markdown",
      "metadata": {
        "id": "ceAuf6wPvGaP"
      },
      "source": [
        "Creation of the model:\n"
      ]
    },
    {
      "cell_type": "code",
      "metadata": {
        "id": "d_kQlEaEudGS"
      },
      "source": [
        "# The number of training samples per batch. 128 is a reasonable number.\n",
        "batch_size = 128\n",
        "\n",
        "# epochs is the number of times the model is trained with the data set, more can be better, up to a point\n",
        "epochs = 24\n",
        "\n",
        "# dropout is a common regularization hyperperameter. It helps to avoid overfitting or memorizing the input.\n",
        "dropout = 0.7"
      ],
      "execution_count": 35,
      "outputs": []
    },
    {
      "cell_type": "code",
      "metadata": {
        "colab": {
          "base_uri": "https://localhost:8080/"
        },
        "id": "nBLu5DjPtYzH",
        "outputId": "6549dde9-868c-4ea2-a841-31ed79223718"
      },
      "source": [
        "model = Sequential()\n",
        "model.add(Conv2D(32, kernel_size=(3, 3), activation='relu', input_shape=input_shape))\n",
        "model.add(Conv2D(64, (3, 3), activation='relu'))\n",
        "model.add(MaxPooling2D(pool_size=(2, 2)))\n",
        "model.add(Dropout(dropout/2))\n",
        "model.add(Flatten())\n",
        "model.add(Dense(128, activation='relu'))\n",
        "model.add(Dropout(dropout))\n",
        "model.add(Dense(num_classes, activation='softmax'))\n",
        "\n",
        "model.summary()"
      ],
      "execution_count": 36,
      "outputs": [
        {
          "output_type": "stream",
          "text": [
            "Model: \"sequential_6\"\n",
            "_________________________________________________________________\n",
            "Layer (type)                 Output Shape              Param #   \n",
            "=================================================================\n",
            "conv2d_12 (Conv2D)           (None, 26, 26, 32)        320       \n",
            "_________________________________________________________________\n",
            "conv2d_13 (Conv2D)           (None, 24, 24, 64)        18496     \n",
            "_________________________________________________________________\n",
            "max_pooling2d_6 (MaxPooling2 (None, 12, 12, 64)        0         \n",
            "_________________________________________________________________\n",
            "dropout_12 (Dropout)         (None, 12, 12, 64)        0         \n",
            "_________________________________________________________________\n",
            "flatten_6 (Flatten)          (None, 9216)              0         \n",
            "_________________________________________________________________\n",
            "dense_12 (Dense)             (None, 128)               1179776   \n",
            "_________________________________________________________________\n",
            "dropout_13 (Dropout)         (None, 128)               0         \n",
            "_________________________________________________________________\n",
            "dense_13 (Dense)             (None, 10)                1290      \n",
            "=================================================================\n",
            "Total params: 1,199,882\n",
            "Trainable params: 1,199,882\n",
            "Non-trainable params: 0\n",
            "_________________________________________________________________\n"
          ],
          "name": "stdout"
        }
      ]
    },
    {
      "cell_type": "markdown",
      "metadata": {
        "id": "LC35YPUbwwrV"
      },
      "source": [
        "Training the model"
      ]
    },
    {
      "cell_type": "code",
      "metadata": {
        "colab": {
          "base_uri": "https://localhost:8080/",
          "height": 1000
        },
        "id": "_cC3vFKfudik",
        "outputId": "7480f28b-2ea5-4d2e-a3cb-e9abe1a3d6e2"
      },
      "source": [
        "model.compile(loss='sparse_categorical_crossentropy', optimizer=Adam(), metrics=['accuracy'])\n",
        "\n",
        "# Train model for a given number of epochs\n",
        "history = model.fit(x_train, y_train, batch_size=batch_size, epochs=epochs, verbose=1, validation_data=(x_test, y_test))\n",
        "\n",
        "# Evaluate model against test data\n",
        "score = model.evaluate(x_test, y_test, verbose=0)\n",
        "print('Test loss:', score[0])\n",
        "print('Test accuracy:', score[1])\n",
        "\n",
        "# summarize history for accuracy\n",
        "plt.plot(history.history['accuracy'])\n",
        "plt.plot(history.history['val_accuracy'])\n",
        "plt.title('Model accuracy')\n",
        "plt.ylabel('Accuracy')\n",
        "plt.xlabel('Epoch')\n",
        "plt.legend(['Train', 'Test'], loc='upper left')\n",
        "plt.show()"
      ],
      "execution_count": 37,
      "outputs": [
        {
          "output_type": "stream",
          "text": [
            "Epoch 1/24\n",
            "469/469 [==============================] - 4s 9ms/step - loss: 0.8922 - accuracy: 0.6914 - val_loss: 0.3652 - val_accuracy: 0.8682\n",
            "Epoch 2/24\n",
            "469/469 [==============================] - 4s 8ms/step - loss: 0.4502 - accuracy: 0.8414 - val_loss: 0.3144 - val_accuracy: 0.8876\n",
            "Epoch 3/24\n",
            "469/469 [==============================] - 4s 8ms/step - loss: 0.3886 - accuracy: 0.8635 - val_loss: 0.2816 - val_accuracy: 0.9020\n",
            "Epoch 4/24\n",
            "469/469 [==============================] - 4s 8ms/step - loss: 0.3512 - accuracy: 0.8747 - val_loss: 0.2643 - val_accuracy: 0.9047\n",
            "Epoch 5/24\n",
            "469/469 [==============================] - 4s 8ms/step - loss: 0.3190 - accuracy: 0.8852 - val_loss: 0.2468 - val_accuracy: 0.9117\n",
            "Epoch 6/24\n",
            "469/469 [==============================] - 4s 8ms/step - loss: 0.3030 - accuracy: 0.8927 - val_loss: 0.2472 - val_accuracy: 0.9099\n",
            "Epoch 7/24\n",
            "469/469 [==============================] - 4s 8ms/step - loss: 0.2795 - accuracy: 0.8989 - val_loss: 0.2386 - val_accuracy: 0.9158\n",
            "Epoch 8/24\n",
            "469/469 [==============================] - 4s 8ms/step - loss: 0.2698 - accuracy: 0.9038 - val_loss: 0.2362 - val_accuracy: 0.9149\n",
            "Epoch 9/24\n",
            "469/469 [==============================] - 4s 8ms/step - loss: 0.2509 - accuracy: 0.9093 - val_loss: 0.2265 - val_accuracy: 0.9156\n",
            "Epoch 10/24\n",
            "469/469 [==============================] - 4s 8ms/step - loss: 0.2440 - accuracy: 0.9129 - val_loss: 0.2210 - val_accuracy: 0.9204\n",
            "Epoch 11/24\n",
            "469/469 [==============================] - 4s 8ms/step - loss: 0.2425 - accuracy: 0.9101 - val_loss: 0.2240 - val_accuracy: 0.9197\n",
            "Epoch 12/24\n",
            "469/469 [==============================] - 4s 8ms/step - loss: 0.2271 - accuracy: 0.9169 - val_loss: 0.2155 - val_accuracy: 0.9243\n",
            "Epoch 13/24\n",
            "469/469 [==============================] - 4s 8ms/step - loss: 0.2196 - accuracy: 0.9184 - val_loss: 0.2277 - val_accuracy: 0.9197\n",
            "Epoch 14/24\n",
            "469/469 [==============================] - 4s 8ms/step - loss: 0.2134 - accuracy: 0.9192 - val_loss: 0.2136 - val_accuracy: 0.9255\n",
            "Epoch 15/24\n",
            "469/469 [==============================] - 4s 8ms/step - loss: 0.2124 - accuracy: 0.9217 - val_loss: 0.2130 - val_accuracy: 0.9230\n",
            "Epoch 16/24\n",
            "469/469 [==============================] - 4s 8ms/step - loss: 0.2002 - accuracy: 0.9261 - val_loss: 0.2127 - val_accuracy: 0.9248\n",
            "Epoch 17/24\n",
            "469/469 [==============================] - 4s 8ms/step - loss: 0.1982 - accuracy: 0.9270 - val_loss: 0.2183 - val_accuracy: 0.9242\n",
            "Epoch 18/24\n",
            "469/469 [==============================] - 4s 8ms/step - loss: 0.1920 - accuracy: 0.9269 - val_loss: 0.2216 - val_accuracy: 0.9227\n",
            "Epoch 19/24\n",
            "469/469 [==============================] - 4s 8ms/step - loss: 0.1907 - accuracy: 0.9282 - val_loss: 0.2093 - val_accuracy: 0.9243\n",
            "Epoch 20/24\n",
            "469/469 [==============================] - 4s 8ms/step - loss: 0.1859 - accuracy: 0.9309 - val_loss: 0.2211 - val_accuracy: 0.9248\n",
            "Epoch 21/24\n",
            "469/469 [==============================] - 4s 8ms/step - loss: 0.1825 - accuracy: 0.9339 - val_loss: 0.2125 - val_accuracy: 0.9288\n",
            "Epoch 22/24\n",
            "469/469 [==============================] - 4s 8ms/step - loss: 0.1750 - accuracy: 0.9332 - val_loss: 0.2219 - val_accuracy: 0.9265\n",
            "Epoch 23/24\n",
            "469/469 [==============================] - 4s 8ms/step - loss: 0.1796 - accuracy: 0.9344 - val_loss: 0.2140 - val_accuracy: 0.9290\n",
            "Epoch 24/24\n",
            "469/469 [==============================] - 4s 8ms/step - loss: 0.1705 - accuracy: 0.9355 - val_loss: 0.2159 - val_accuracy: 0.9306\n",
            "Test loss: 0.21589751541614532\n",
            "Test accuracy: 0.9305999875068665\n"
          ],
          "name": "stdout"
        },
        {
          "output_type": "display_data",
          "data": {
            "image/png": "[encoded data removed]",
            "text/plain": [
              "<Figure size 432x288 with 1 Axes>"
            ]
          },
          "metadata": {
            "tags": [],
            "needs_background": "light"
          }
        }
      ]
    },
    {
      "cell_type": "markdown",
      "metadata": {
        "id": "luFvdh6T5LNH"
      },
      "source": [
        "#Conclusion\n",
        "To try a variety of times to get the best results the best prediction have with training accuracy: 0.9355 and test accuracy: 0.9306. \n",
        "Then we will predict the test and analyze the errors"
      ]
    },
    {
      "cell_type": "markdown",
      "metadata": {
        "id": "DKwPdW855E66"
      },
      "source": [
        "Make the predictions"
      ]
    },
    {
      "cell_type": "code",
      "metadata": {
        "id": "86HPmq4H4nHr"
      },
      "source": [
        "predictions = model.predict(x_test)\n",
        "most_likely = predictions.argmax(1)"
      ],
      "execution_count": 38,
      "outputs": []
    },
    {
      "cell_type": "code",
      "metadata": {
        "colab": {
          "base_uri": "https://localhost:8080/",
          "height": 281
        },
        "id": "oFlQzktD4vp0",
        "outputId": "2bb7081e-6e99-4156-bc4f-3ae3e48bff50"
      },
      "source": [
        "index = random.randrange(10000)\n",
        "plt.title('Prediction: %d, label: %d' % (most_likely[index], y_test[index]))\n",
        "plt.imshow(orig_test[index], cmap='gray')\n",
        "plt.show()"
      ],
      "execution_count": 57,
      "outputs": [
        {
          "output_type": "display_data",
          "data": {
            "image/png": "[encoded data removed]",
            "text/plain": [
              "<Figure size 432x288 with 1 Axes>"
            ]
          },
          "metadata": {
            "tags": [],
            "needs_background": "light"
          }
        }
      ]
    },
    {
      "cell_type": "markdown",
      "metadata": {
        "id": "ZBiJgp0B5yhW"
      },
      "source": [
        "Error analysis"
      ]
    },
    {
      "cell_type": "code",
      "metadata": {
        "colab": {
          "base_uri": "https://localhost:8080/",
          "height": 545
        },
        "id": "KghFlaQr4689",
        "outputId": "e06b2110-f8cf-40f4-c8ca-9400d8e27554"
      },
      "source": [
        "for i in range(10000):\n",
        "    index = random.randrange(10000)\n",
        "    if most_likely[index] != y_test[index]:\n",
        "        break\n",
        "\n",
        "plt.imshow(orig_test[index], cmap='gray')\n",
        "plt.title('Prediction: %d, label: %d' % (most_likely[index], y_test[index]))\n",
        "plt.show()\n",
        "\n",
        "plt.bar(range(10), predictions[index], tick_label=range(10))\n",
        "plt.title('Prediction values')\n",
        "plt.show()"
      ],
      "execution_count": 55,
      "outputs": [
        {
          "output_type": "display_data",
          "data": {
            "image/png": "[encoded data removed]",
            "text/plain": [
              "<Figure size 432x288 with 1 Axes>"
            ]
          },
          "metadata": {
            "tags": [],
            "needs_background": "light"
          }
        },
        {
          "output_type": "display_data",
          "data": {
            "image/png": "[encoded data removed]",
            "text/plain": [
              "<Figure size 432x288 with 1 Axes>"
            ]
          },
          "metadata": {
            "tags": [],
            "needs_background": "light"
          }
        }
      ]
    },
    {
      "cell_type": "markdown",
      "metadata": {
        "id": "FFM4cQka7mKz"
      },
      "source": [
        "It is more difficult because the different colours can influence on the result and there are clothes that you see and it makes it difficult to identify\n",
        "\n",
        "```\n",
        "# Tiene formato de código\n",
        "```\n",
        "\n"
      ]
    }
  ]
}